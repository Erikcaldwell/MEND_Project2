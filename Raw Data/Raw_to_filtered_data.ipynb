{
 "cells": [
  {
   "cell_type": "code",
   "execution_count": 2,
   "metadata": {},
   "outputs": [],
   "source": [
    "import pandas as pd\n",
    "import numpy as np\n",
    "import matplotlib as plt\n",
    "from itertools import groupby"
   ]
  },
  {
   "cell_type": "code",
   "execution_count": 8,
   "metadata": {},
   "outputs": [],
   "source": [
    "df = pd.read_csv('cleaned_data.zip')\n",
    "df = df.apply(pd.to_numeric, errors = 'ignore')"
   ]
  },
  {
   "cell_type": "code",
   "execution_count": 9,
   "metadata": {},
   "outputs": [
    {
     "data": {
      "text/plain": [
       "Date              451604\n",
       "Speed             451604\n",
       "Altitude          451604\n",
       "Pressure          451604\n",
       "X                 451604\n",
       "Y                 451604\n",
       "Z                 451604\n",
       "G                 451604\n",
       "Latitude          451604\n",
       "Longitude         451604\n",
       "Heading           451604\n",
       "Magnetic Field    451604\n",
       "Sound Level       451604\n",
       "Luminance         451604\n",
       "Driver            451604\n",
       "dtype: int64"
      ]
     },
     "execution_count": 9,
     "metadata": {},
     "output_type": "execute_result"
    }
   ],
   "source": [
    "df.count()"
   ]
  },
  {
   "cell_type": "code",
   "execution_count": 12,
   "metadata": {},
   "outputs": [
    {
     "name": "stdout",
     "output_type": "stream",
     "text": [
      "1.0059043258562665\n",
      "0.06517122598375481\n",
      "0.875561873888757\n",
      "1.1362467778237761\n"
     ]
    }
   ],
   "source": [
    "mean_G = df.G.mean()\n",
    "sd_G = df.G.std()\n",
    "\n",
    "low_limit = mean_G -2*sd_G\n",
    "high_limit = mean_G + 2*sd_G\n",
    "print(mean_G)\n",
    "print(sd_G)\n",
    "print(low_limit)\n",
    "print(high_limit)"
   ]
  },
  {
   "cell_type": "code",
   "execution_count": 13,
   "metadata": {},
   "outputs": [
    {
     "data": {
      "text/html": [
       "<div>\n",
       "<style scoped>\n",
       "    .dataframe tbody tr th:only-of-type {\n",
       "        vertical-align: middle;\n",
       "    }\n",
       "\n",
       "    .dataframe tbody tr th {\n",
       "        vertical-align: top;\n",
       "    }\n",
       "\n",
       "    .dataframe thead th {\n",
       "        text-align: right;\n",
       "    }\n",
       "</style>\n",
       "<table border=\"1\" class=\"dataframe\">\n",
       "  <thead>\n",
       "    <tr style=\"text-align: right;\">\n",
       "      <th></th>\n",
       "      <th>Date</th>\n",
       "      <th>Speed</th>\n",
       "      <th>Altitude</th>\n",
       "      <th>Pressure</th>\n",
       "      <th>X</th>\n",
       "      <th>Y</th>\n",
       "      <th>Z</th>\n",
       "      <th>G</th>\n",
       "      <th>Latitude</th>\n",
       "      <th>Longitude</th>\n",
       "      <th>Heading</th>\n",
       "      <th>Magnetic Field</th>\n",
       "      <th>Sound Level</th>\n",
       "      <th>Luminance</th>\n",
       "      <th>Driver</th>\n",
       "      <th>outlier</th>\n",
       "    </tr>\n",
       "  </thead>\n",
       "  <tbody>\n",
       "    <tr>\n",
       "      <th>0</th>\n",
       "      <td>44:43.7</td>\n",
       "      <td>13.40</td>\n",
       "      <td>117.363869</td>\n",
       "      <td>1001.769867</td>\n",
       "      <td>0.129517</td>\n",
       "      <td>-0.913025</td>\n",
       "      <td>-0.561371</td>\n",
       "      <td>1.079595</td>\n",
       "      <td>32.757233</td>\n",
       "      <td>-117.122688</td>\n",
       "      <td>260.198639</td>\n",
       "      <td>59.920509</td>\n",
       "      <td>0.0</td>\n",
       "      <td>0.088938</td>\n",
       "      <td>Daniel</td>\n",
       "      <td>False</td>\n",
       "    </tr>\n",
       "    <tr>\n",
       "      <th>1</th>\n",
       "      <td>44:43.8</td>\n",
       "      <td>13.40</td>\n",
       "      <td>117.363869</td>\n",
       "      <td>1001.769867</td>\n",
       "      <td>0.033691</td>\n",
       "      <td>-0.925293</td>\n",
       "      <td>-0.501190</td>\n",
       "      <td>1.052850</td>\n",
       "      <td>32.757233</td>\n",
       "      <td>-117.122688</td>\n",
       "      <td>260.198639</td>\n",
       "      <td>59.920509</td>\n",
       "      <td>0.0</td>\n",
       "      <td>0.087040</td>\n",
       "      <td>Daniel</td>\n",
       "      <td>False</td>\n",
       "    </tr>\n",
       "    <tr>\n",
       "      <th>2</th>\n",
       "      <td>44:43.9</td>\n",
       "      <td>13.40</td>\n",
       "      <td>117.363869</td>\n",
       "      <td>1001.769867</td>\n",
       "      <td>0.107635</td>\n",
       "      <td>-0.898651</td>\n",
       "      <td>-0.490646</td>\n",
       "      <td>1.029511</td>\n",
       "      <td>32.757233</td>\n",
       "      <td>-117.122688</td>\n",
       "      <td>260.198639</td>\n",
       "      <td>59.920509</td>\n",
       "      <td>0.0</td>\n",
       "      <td>0.086292</td>\n",
       "      <td>Daniel</td>\n",
       "      <td>False</td>\n",
       "    </tr>\n",
       "    <tr>\n",
       "      <th>3</th>\n",
       "      <td>44:44.0</td>\n",
       "      <td>13.40</td>\n",
       "      <td>117.363869</td>\n",
       "      <td>1001.769867</td>\n",
       "      <td>0.023285</td>\n",
       "      <td>-0.930878</td>\n",
       "      <td>-0.405792</td>\n",
       "      <td>1.015747</td>\n",
       "      <td>32.757233</td>\n",
       "      <td>-117.122688</td>\n",
       "      <td>260.198639</td>\n",
       "      <td>59.920509</td>\n",
       "      <td>0.0</td>\n",
       "      <td>0.087148</td>\n",
       "      <td>Daniel</td>\n",
       "      <td>False</td>\n",
       "    </tr>\n",
       "    <tr>\n",
       "      <th>4</th>\n",
       "      <td>44:44.1</td>\n",
       "      <td>13.18</td>\n",
       "      <td>117.575111</td>\n",
       "      <td>1001.769867</td>\n",
       "      <td>0.076996</td>\n",
       "      <td>-0.827789</td>\n",
       "      <td>-0.430832</td>\n",
       "      <td>0.936365</td>\n",
       "      <td>32.757233</td>\n",
       "      <td>-117.122829</td>\n",
       "      <td>258.466003</td>\n",
       "      <td>60.593038</td>\n",
       "      <td>0.0</td>\n",
       "      <td>0.074801</td>\n",
       "      <td>Daniel</td>\n",
       "      <td>False</td>\n",
       "    </tr>\n",
       "  </tbody>\n",
       "</table>\n",
       "</div>"
      ],
      "text/plain": [
       "      Date  Speed    Altitude     Pressure         X         Y         Z  \\\n",
       "0  44:43.7  13.40  117.363869  1001.769867  0.129517 -0.913025 -0.561371   \n",
       "1  44:43.8  13.40  117.363869  1001.769867  0.033691 -0.925293 -0.501190   \n",
       "2  44:43.9  13.40  117.363869  1001.769867  0.107635 -0.898651 -0.490646   \n",
       "3  44:44.0  13.40  117.363869  1001.769867  0.023285 -0.930878 -0.405792   \n",
       "4  44:44.1  13.18  117.575111  1001.769867  0.076996 -0.827789 -0.430832   \n",
       "\n",
       "          G   Latitude   Longitude     Heading  Magnetic Field  Sound Level  \\\n",
       "0  1.079595  32.757233 -117.122688  260.198639       59.920509          0.0   \n",
       "1  1.052850  32.757233 -117.122688  260.198639       59.920509          0.0   \n",
       "2  1.029511  32.757233 -117.122688  260.198639       59.920509          0.0   \n",
       "3  1.015747  32.757233 -117.122688  260.198639       59.920509          0.0   \n",
       "4  0.936365  32.757233 -117.122829  258.466003       60.593038          0.0   \n",
       "\n",
       "   Luminance  Driver  outlier  \n",
       "0   0.088938  Daniel    False  \n",
       "1   0.087040  Daniel    False  \n",
       "2   0.086292  Daniel    False  \n",
       "3   0.087148  Daniel    False  \n",
       "4   0.074801  Daniel    False  "
      ]
     },
     "execution_count": 13,
     "metadata": {},
     "output_type": "execute_result"
    }
   ],
   "source": [
    "df['outlier'] = (df['G'] <= low_limit) | (df['G'] >= high_limit)\n",
    "df.head()"
   ]
  },
  {
   "cell_type": "code",
   "execution_count": 15,
   "metadata": {},
   "outputs": [
    {
     "data": {
      "text/plain": [
       "Erik        189964\n",
       "Daniel      174915\n",
       "Zhisen       73771\n",
       "Naazneen     12954\n",
       "Name: Driver, dtype: int64"
      ]
     },
     "execution_count": 15,
     "metadata": {},
     "output_type": "execute_result"
    }
   ],
   "source": [
    "df.Driver.value_counts()"
   ]
  },
  {
   "cell_type": "code",
   "execution_count": 83,
   "metadata": {},
   "outputs": [],
   "source": [
    "outlier = df['outlier']\n",
    "trues = []\n",
    "index_list = []\n",
    "\n",
    "for index, value in outlier.iteritems():\n",
    "    if value:\n",
    "        trues.append(index)\n",
    "    else:\n",
    "        if len(trues) > 1:\n",
    "            index_list.extend(trues)\n",
    "        trues = []\n",
    "\n",
    "if len(trues) > 1:\n",
    "    index_list.extend(trues)\n"
   ]
  },
  {
   "cell_type": "code",
   "execution_count": 80,
   "metadata": {},
   "outputs": [],
   "source": [
    "df_filtered = df.iloc[index_list]"
   ]
  },
  {
   "cell_type": "code",
   "execution_count": 87,
   "metadata": {},
   "outputs": [
    {
     "data": {
      "text/plain": [
       "Date              25657\n",
       "Speed             25657\n",
       "Altitude          25657\n",
       "Pressure          25657\n",
       "X                 25657\n",
       "Y                 25657\n",
       "Z                 25657\n",
       "G                 25657\n",
       "Latitude          25657\n",
       "Longitude         25657\n",
       "Heading           25657\n",
       "Magnetic Field    25657\n",
       "Sound Level       25657\n",
       "Luminance         25657\n",
       "Driver            25657\n",
       "outlier           25657\n",
       "dtype: int64"
      ]
     },
     "execution_count": 87,
     "metadata": {},
     "output_type": "execute_result"
    }
   ],
   "source": [
    "df_filtered.count()"
   ]
  },
  {
   "cell_type": "code",
   "execution_count": 1,
   "metadata": {},
   "outputs": [
    {
     "ename": "NameError",
     "evalue": "name 'df_filtered' is not defined",
     "output_type": "error",
     "traceback": [
      "\u001b[0;31m---------------------------------------------------------------------------\u001b[0m",
      "\u001b[0;31mNameError\u001b[0m                                 Traceback (most recent call last)",
      "\u001b[0;32m<ipython-input-1-e90c95440d4c>\u001b[0m in \u001b[0;36m<module>\u001b[0;34m()\u001b[0m\n\u001b[0;32m----> 1\u001b[0;31m \u001b[0mdf_filtered\u001b[0m\u001b[0;34m.\u001b[0m\u001b[0mtail\u001b[0m\u001b[0;34m(\u001b[0m\u001b[0;34m)\u001b[0m\u001b[0;34m\u001b[0m\u001b[0m\n\u001b[0m",
      "\u001b[0;31mNameError\u001b[0m: name 'df_filtered' is not defined"
     ]
    }
   ],
   "source": [
    "df_filtered.tail()\n"
   ]
  },
  {
   "cell_type": "code",
   "execution_count": 85,
   "metadata": {},
   "outputs": [],
   "source": [
    "df_filtered.to_csv('filtered.csv')"
   ]
  },
  {
   "cell_type": "code",
   "execution_count": null,
   "metadata": {},
   "outputs": [],
   "source": []
  }
 ],
 "metadata": {
  "kernelspec": {
   "display_name": "Python 3",
   "language": "python",
   "name": "python3"
  },
  "language_info": {
   "codemirror_mode": {
    "name": "ipython",
    "version": 3
   },
   "file_extension": ".py",
   "mimetype": "text/x-python",
   "name": "python",
   "nbconvert_exporter": "python",
   "pygments_lexer": "ipython3",
   "version": "3.6.4"
  }
 },
 "nbformat": 4,
 "nbformat_minor": 2
}
