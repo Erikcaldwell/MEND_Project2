{
 "cells": [
  {
   "cell_type": "code",
   "execution_count": 1,
   "metadata": {},
   "outputs": [],
   "source": [
    "import pandas as pd\n",
    "import numpy as np\n",
    "import matplotlib as plt\n"
   ]
  },
  {
   "cell_type": "code",
   "execution_count": 2,
   "metadata": {},
   "outputs": [],
   "source": [
    "df = pd.read_csv('cleaned_data.zip')\n",
    "df = df.apply(pd.to_numeric, errors = 'ignore')"
   ]
  },
  {
   "cell_type": "code",
   "execution_count": 3,
   "metadata": {},
   "outputs": [
    {
     "data": {
      "text/plain": [
       "Date              487788\n",
       "Speed             487788\n",
       "Altitude          487788\n",
       "Pressure          487788\n",
       "X                 487788\n",
       "Y                 487788\n",
       "Z                 487788\n",
       "G                 487788\n",
       "Latitude          487788\n",
       "Longitude         487788\n",
       "Heading           487788\n",
       "Magnetic Field    487788\n",
       "Sound Level       487788\n",
       "Luminance         487788\n",
       "Driver            487788\n",
       "dtype: int64"
      ]
     },
     "execution_count": 3,
     "metadata": {},
     "output_type": "execute_result"
    }
   ],
   "source": [
    "df.count()"
   ]
  },
  {
   "cell_type": "code",
   "execution_count": 4,
   "metadata": {},
   "outputs": [
    {
     "name": "stdout",
     "output_type": "stream",
     "text": [
      "1.0064099520836847\n",
      "0.06430579043370775\n",
      "0.8777983712162691\n",
      "1.1350215329511002\n"
     ]
    }
   ],
   "source": [
    "mean_G = df.G.mean()\n",
    "sd_G = df.G.std()\n",
    "\n",
    "low_limit = mean_G -2*sd_G\n",
    "high_limit = mean_G + 2*sd_G\n",
    "print(mean_G)\n",
    "print(sd_G)\n",
    "print(low_limit)\n",
    "print(high_limit)"
   ]
  },
  {
   "cell_type": "code",
   "execution_count": 5,
   "metadata": {},
   "outputs": [
    {
     "data": {
      "text/html": [
       "<div>\n",
       "<style scoped>\n",
       "    .dataframe tbody tr th:only-of-type {\n",
       "        vertical-align: middle;\n",
       "    }\n",
       "\n",
       "    .dataframe tbody tr th {\n",
       "        vertical-align: top;\n",
       "    }\n",
       "\n",
       "    .dataframe thead th {\n",
       "        text-align: right;\n",
       "    }\n",
       "</style>\n",
       "<table border=\"1\" class=\"dataframe\">\n",
       "  <thead>\n",
       "    <tr style=\"text-align: right;\">\n",
       "      <th></th>\n",
       "      <th>Date</th>\n",
       "      <th>Speed</th>\n",
       "      <th>Altitude</th>\n",
       "      <th>Pressure</th>\n",
       "      <th>X</th>\n",
       "      <th>Y</th>\n",
       "      <th>Z</th>\n",
       "      <th>G</th>\n",
       "      <th>Latitude</th>\n",
       "      <th>Longitude</th>\n",
       "      <th>Heading</th>\n",
       "      <th>Magnetic Field</th>\n",
       "      <th>Sound Level</th>\n",
       "      <th>Luminance</th>\n",
       "      <th>Driver</th>\n",
       "      <th>outlier</th>\n",
       "    </tr>\n",
       "  </thead>\n",
       "  <tbody>\n",
       "    <tr>\n",
       "      <th>0</th>\n",
       "      <td>44:43.7</td>\n",
       "      <td>13.40</td>\n",
       "      <td>117.363869</td>\n",
       "      <td>1001.769867</td>\n",
       "      <td>0.129517</td>\n",
       "      <td>-0.913025</td>\n",
       "      <td>-0.561371</td>\n",
       "      <td>1.079595</td>\n",
       "      <td>32.757233</td>\n",
       "      <td>-117.122688</td>\n",
       "      <td>260.198639</td>\n",
       "      <td>59.920509</td>\n",
       "      <td>0.0</td>\n",
       "      <td>0.088938</td>\n",
       "      <td>Daniel</td>\n",
       "      <td>False</td>\n",
       "    </tr>\n",
       "    <tr>\n",
       "      <th>1</th>\n",
       "      <td>44:43.8</td>\n",
       "      <td>13.40</td>\n",
       "      <td>117.363869</td>\n",
       "      <td>1001.769867</td>\n",
       "      <td>0.033691</td>\n",
       "      <td>-0.925293</td>\n",
       "      <td>-0.501190</td>\n",
       "      <td>1.052850</td>\n",
       "      <td>32.757233</td>\n",
       "      <td>-117.122688</td>\n",
       "      <td>260.198639</td>\n",
       "      <td>59.920509</td>\n",
       "      <td>0.0</td>\n",
       "      <td>0.087040</td>\n",
       "      <td>Daniel</td>\n",
       "      <td>False</td>\n",
       "    </tr>\n",
       "    <tr>\n",
       "      <th>2</th>\n",
       "      <td>44:43.9</td>\n",
       "      <td>13.40</td>\n",
       "      <td>117.363869</td>\n",
       "      <td>1001.769867</td>\n",
       "      <td>0.107635</td>\n",
       "      <td>-0.898651</td>\n",
       "      <td>-0.490646</td>\n",
       "      <td>1.029511</td>\n",
       "      <td>32.757233</td>\n",
       "      <td>-117.122688</td>\n",
       "      <td>260.198639</td>\n",
       "      <td>59.920509</td>\n",
       "      <td>0.0</td>\n",
       "      <td>0.086292</td>\n",
       "      <td>Daniel</td>\n",
       "      <td>False</td>\n",
       "    </tr>\n",
       "    <tr>\n",
       "      <th>3</th>\n",
       "      <td>44:44.0</td>\n",
       "      <td>13.40</td>\n",
       "      <td>117.363869</td>\n",
       "      <td>1001.769867</td>\n",
       "      <td>0.023285</td>\n",
       "      <td>-0.930878</td>\n",
       "      <td>-0.405792</td>\n",
       "      <td>1.015747</td>\n",
       "      <td>32.757233</td>\n",
       "      <td>-117.122688</td>\n",
       "      <td>260.198639</td>\n",
       "      <td>59.920509</td>\n",
       "      <td>0.0</td>\n",
       "      <td>0.087148</td>\n",
       "      <td>Daniel</td>\n",
       "      <td>False</td>\n",
       "    </tr>\n",
       "    <tr>\n",
       "      <th>4</th>\n",
       "      <td>44:44.1</td>\n",
       "      <td>13.18</td>\n",
       "      <td>117.575111</td>\n",
       "      <td>1001.769867</td>\n",
       "      <td>0.076996</td>\n",
       "      <td>-0.827789</td>\n",
       "      <td>-0.430832</td>\n",
       "      <td>0.936365</td>\n",
       "      <td>32.757233</td>\n",
       "      <td>-117.122829</td>\n",
       "      <td>258.466003</td>\n",
       "      <td>60.593038</td>\n",
       "      <td>0.0</td>\n",
       "      <td>0.074801</td>\n",
       "      <td>Daniel</td>\n",
       "      <td>False</td>\n",
       "    </tr>\n",
       "  </tbody>\n",
       "</table>\n",
       "</div>"
      ],
      "text/plain": [
       "      Date  Speed    Altitude     Pressure         X         Y         Z  \\\n",
       "0  44:43.7  13.40  117.363869  1001.769867  0.129517 -0.913025 -0.561371   \n",
       "1  44:43.8  13.40  117.363869  1001.769867  0.033691 -0.925293 -0.501190   \n",
       "2  44:43.9  13.40  117.363869  1001.769867  0.107635 -0.898651 -0.490646   \n",
       "3  44:44.0  13.40  117.363869  1001.769867  0.023285 -0.930878 -0.405792   \n",
       "4  44:44.1  13.18  117.575111  1001.769867  0.076996 -0.827789 -0.430832   \n",
       "\n",
       "          G   Latitude   Longitude     Heading  Magnetic Field  Sound Level  \\\n",
       "0  1.079595  32.757233 -117.122688  260.198639       59.920509          0.0   \n",
       "1  1.052850  32.757233 -117.122688  260.198639       59.920509          0.0   \n",
       "2  1.029511  32.757233 -117.122688  260.198639       59.920509          0.0   \n",
       "3  1.015747  32.757233 -117.122688  260.198639       59.920509          0.0   \n",
       "4  0.936365  32.757233 -117.122829  258.466003       60.593038          0.0   \n",
       "\n",
       "   Luminance  Driver  outlier  \n",
       "0   0.088938  Daniel    False  \n",
       "1   0.087040  Daniel    False  \n",
       "2   0.086292  Daniel    False  \n",
       "3   0.087148  Daniel    False  \n",
       "4   0.074801  Daniel    False  "
      ]
     },
     "execution_count": 5,
     "metadata": {},
     "output_type": "execute_result"
    }
   ],
   "source": [
    "df['outlier'] = (df['G'] <= low_limit) | (df['G'] >= high_limit)\n",
    "df.head()"
   ]
  },
  {
   "cell_type": "code",
   "execution_count": 6,
   "metadata": {},
   "outputs": [
    {
     "data": {
      "text/plain": [
       "Erik        226148\n",
       "Daniel      174915\n",
       "Zhisen       73771\n",
       "Naazneen     12954\n",
       "Name: Driver, dtype: int64"
      ]
     },
     "execution_count": 6,
     "metadata": {},
     "output_type": "execute_result"
    }
   ],
   "source": [
    "df.Driver.value_counts()"
   ]
  },
  {
   "cell_type": "code",
   "execution_count": 7,
   "metadata": {},
   "outputs": [],
   "source": [
    "outlier = df['outlier']\n",
    "trues = []\n",
    "index_list = []\n",
    "\n",
    "for index, value in outlier.iteritems():\n",
    "    if value:\n",
    "        trues.append(index)\n",
    "    else:\n",
    "        if len(trues) > 1:\n",
    "            index_list.extend(trues)\n",
    "        trues = []\n",
    "\n",
    "if len(trues) > 1:\n",
    "    index_list.extend(trues)\n"
   ]
  },
  {
   "cell_type": "code",
   "execution_count": 12,
   "metadata": {},
   "outputs": [],
   "source": [
    "df_filtered = df.iloc[index_list]"
   ]
  },
  {
   "cell_type": "code",
   "execution_count": 13,
   "metadata": {},
   "outputs": [
    {
     "data": {
      "text/plain": [
       "Date              13530\n",
       "Speed             13530\n",
       "Altitude          13530\n",
       "Pressure          13530\n",
       "X                 13530\n",
       "Y                 13530\n",
       "Z                 13530\n",
       "G                 13530\n",
       "Latitude          13530\n",
       "Longitude         13530\n",
       "Heading           13530\n",
       "Magnetic Field    13530\n",
       "Sound Level       13530\n",
       "Luminance         13530\n",
       "Driver            13530\n",
       "outlier           13530\n",
       "dtype: int64"
      ]
     },
     "execution_count": 13,
     "metadata": {},
     "output_type": "execute_result"
    }
   ],
   "source": [
    "df_filtered.count()"
   ]
  },
  {
   "cell_type": "code",
   "execution_count": 14,
   "metadata": {},
   "outputs": [
    {
     "data": {
      "text/html": [
       "<div>\n",
       "<style scoped>\n",
       "    .dataframe tbody tr th:only-of-type {\n",
       "        vertical-align: middle;\n",
       "    }\n",
       "\n",
       "    .dataframe tbody tr th {\n",
       "        vertical-align: top;\n",
       "    }\n",
       "\n",
       "    .dataframe thead th {\n",
       "        text-align: right;\n",
       "    }\n",
       "</style>\n",
       "<table border=\"1\" class=\"dataframe\">\n",
       "  <thead>\n",
       "    <tr style=\"text-align: right;\">\n",
       "      <th></th>\n",
       "      <th>Date</th>\n",
       "      <th>Speed</th>\n",
       "      <th>Altitude</th>\n",
       "      <th>Pressure</th>\n",
       "      <th>X</th>\n",
       "      <th>Y</th>\n",
       "      <th>Z</th>\n",
       "      <th>G</th>\n",
       "      <th>Latitude</th>\n",
       "      <th>Longitude</th>\n",
       "      <th>Heading</th>\n",
       "      <th>Magnetic Field</th>\n",
       "      <th>Sound Level</th>\n",
       "      <th>Luminance</th>\n",
       "      <th>Driver</th>\n",
       "      <th>outlier</th>\n",
       "    </tr>\n",
       "  </thead>\n",
       "  <tbody>\n",
       "    <tr>\n",
       "      <th>487649</th>\n",
       "      <td>16:12.0</td>\n",
       "      <td>15.39</td>\n",
       "      <td>17.572877</td>\n",
       "      <td>1014.884338</td>\n",
       "      <td>0.167130</td>\n",
       "      <td>-0.556885</td>\n",
       "      <td>-0.281845</td>\n",
       "      <td>0.646134</td>\n",
       "      <td>32.719986</td>\n",
       "      <td>-117.162944</td>\n",
       "      <td>168.260422</td>\n",
       "      <td>20.089094</td>\n",
       "      <td>0.0</td>\n",
       "      <td>0.0</td>\n",
       "      <td>Erik</td>\n",
       "      <td>True</td>\n",
       "    </tr>\n",
       "    <tr>\n",
       "      <th>487650</th>\n",
       "      <td>16:12.0</td>\n",
       "      <td>15.39</td>\n",
       "      <td>17.572877</td>\n",
       "      <td>1014.884338</td>\n",
       "      <td>0.167130</td>\n",
       "      <td>-0.556885</td>\n",
       "      <td>-0.281845</td>\n",
       "      <td>0.646134</td>\n",
       "      <td>32.719986</td>\n",
       "      <td>-117.162944</td>\n",
       "      <td>168.260422</td>\n",
       "      <td>20.089094</td>\n",
       "      <td>0.0</td>\n",
       "      <td>0.0</td>\n",
       "      <td>Erik</td>\n",
       "      <td>True</td>\n",
       "    </tr>\n",
       "    <tr>\n",
       "      <th>487766</th>\n",
       "      <td>16:24.8</td>\n",
       "      <td>0.31</td>\n",
       "      <td>12.494885</td>\n",
       "      <td>1015.647964</td>\n",
       "      <td>0.079880</td>\n",
       "      <td>-1.194138</td>\n",
       "      <td>-0.205566</td>\n",
       "      <td>1.214332</td>\n",
       "      <td>32.718976</td>\n",
       "      <td>-117.162935</td>\n",
       "      <td>164.062378</td>\n",
       "      <td>21.595672</td>\n",
       "      <td>0.0</td>\n",
       "      <td>0.0</td>\n",
       "      <td>Erik</td>\n",
       "      <td>True</td>\n",
       "    </tr>\n",
       "    <tr>\n",
       "      <th>487767</th>\n",
       "      <td>16:24.9</td>\n",
       "      <td>0.31</td>\n",
       "      <td>12.494885</td>\n",
       "      <td>1015.647964</td>\n",
       "      <td>0.079880</td>\n",
       "      <td>-1.194138</td>\n",
       "      <td>-0.205566</td>\n",
       "      <td>1.214332</td>\n",
       "      <td>32.718976</td>\n",
       "      <td>-117.162935</td>\n",
       "      <td>164.062378</td>\n",
       "      <td>21.595672</td>\n",
       "      <td>0.0</td>\n",
       "      <td>0.0</td>\n",
       "      <td>Erik</td>\n",
       "      <td>True</td>\n",
       "    </tr>\n",
       "    <tr>\n",
       "      <th>487768</th>\n",
       "      <td>16:25.0</td>\n",
       "      <td>0.31</td>\n",
       "      <td>12.494885</td>\n",
       "      <td>1015.647964</td>\n",
       "      <td>0.002838</td>\n",
       "      <td>-1.229294</td>\n",
       "      <td>-0.234558</td>\n",
       "      <td>1.251475</td>\n",
       "      <td>32.718976</td>\n",
       "      <td>-117.162935</td>\n",
       "      <td>161.703629</td>\n",
       "      <td>31.427070</td>\n",
       "      <td>0.0</td>\n",
       "      <td>0.0</td>\n",
       "      <td>Erik</td>\n",
       "      <td>True</td>\n",
       "    </tr>\n",
       "  </tbody>\n",
       "</table>\n",
       "</div>"
      ],
      "text/plain": [
       "           Date  Speed   Altitude     Pressure         X         Y         Z  \\\n",
       "487649  16:12.0  15.39  17.572877  1014.884338  0.167130 -0.556885 -0.281845   \n",
       "487650  16:12.0  15.39  17.572877  1014.884338  0.167130 -0.556885 -0.281845   \n",
       "487766  16:24.8   0.31  12.494885  1015.647964  0.079880 -1.194138 -0.205566   \n",
       "487767  16:24.9   0.31  12.494885  1015.647964  0.079880 -1.194138 -0.205566   \n",
       "487768  16:25.0   0.31  12.494885  1015.647964  0.002838 -1.229294 -0.234558   \n",
       "\n",
       "               G   Latitude   Longitude     Heading  Magnetic Field  \\\n",
       "487649  0.646134  32.719986 -117.162944  168.260422       20.089094   \n",
       "487650  0.646134  32.719986 -117.162944  168.260422       20.089094   \n",
       "487766  1.214332  32.718976 -117.162935  164.062378       21.595672   \n",
       "487767  1.214332  32.718976 -117.162935  164.062378       21.595672   \n",
       "487768  1.251475  32.718976 -117.162935  161.703629       31.427070   \n",
       "\n",
       "        Sound Level  Luminance Driver  outlier  \n",
       "487649          0.0        0.0   Erik     True  \n",
       "487650          0.0        0.0   Erik     True  \n",
       "487766          0.0        0.0   Erik     True  \n",
       "487767          0.0        0.0   Erik     True  \n",
       "487768          0.0        0.0   Erik     True  "
      ]
     },
     "execution_count": 14,
     "metadata": {},
     "output_type": "execute_result"
    }
   ],
   "source": [
    "df_filtered.tail()\n"
   ]
  },
  {
   "cell_type": "code",
   "execution_count": 15,
   "metadata": {},
   "outputs": [
    {
     "data": {
      "text/plain": [
       "Zhisen      5677\n",
       "Daniel      4460\n",
       "Erik        2802\n",
       "Naazneen     591\n",
       "Name: Driver, dtype: int64"
      ]
     },
     "execution_count": 15,
     "metadata": {},
     "output_type": "execute_result"
    }
   ],
   "source": [
    "df_filtered.Driver.value_counts()"
   ]
  },
  {
   "cell_type": "code",
   "execution_count": 85,
   "metadata": {},
   "outputs": [],
   "source": [
    "df_filtered.to_csv('filtered.csv')"
   ]
  },
  {
   "cell_type": "code",
   "execution_count": null,
   "metadata": {},
   "outputs": [],
   "source": []
  }
 ],
 "metadata": {
  "kernelspec": {
   "display_name": "Python 3",
   "language": "python",
   "name": "python3"
  },
  "language_info": {
   "codemirror_mode": {
    "name": "ipython",
    "version": 3
   },
   "file_extension": ".py",
   "mimetype": "text/x-python",
   "name": "python",
   "nbconvert_exporter": "python",
   "pygments_lexer": "ipython3",
   "version": "3.6.4"
  }
 },
 "nbformat": 4,
 "nbformat_minor": 2
}
