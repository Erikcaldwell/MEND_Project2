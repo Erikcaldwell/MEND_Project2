{
 "cells": [
  {
   "cell_type": "code",
   "execution_count": 75,
   "metadata": {},
   "outputs": [],
   "source": [
    "import pandas as pd\n",
    "import numpy as np\n",
    "import matplotlib as plt\n",
    "from itertools import groupby"
   ]
  },
  {
   "cell_type": "code",
   "execution_count": 26,
   "metadata": {},
   "outputs": [],
   "source": [
    "df = pd.read_csv('cleaned_data.zip')\n",
    "df = df.apply(pd.to_numeric, errors = 'ignore')"
   ]
  },
  {
   "cell_type": "code",
   "execution_count": 27,
   "metadata": {},
   "outputs": [
    {
     "data": {
      "text/plain": [
       "Date              451604\n",
       "Speed             451604\n",
       "Altitude          451604\n",
       "Pressure          451604\n",
       "X                 451604\n",
       "Y                 451604\n",
       "Z                 451604\n",
       "G                 451604\n",
       "Latitude          451604\n",
       "Longitude         451604\n",
       "Heading           451604\n",
       "Magnetic Field    451604\n",
       "Sound Level       451604\n",
       "Luminance         451604\n",
       "Driver            451604\n",
       "dtype: int64"
      ]
     },
     "execution_count": 27,
     "metadata": {},
     "output_type": "execute_result"
    }
   ],
   "source": [
    "df.count()"
   ]
  },
  {
   "cell_type": "code",
   "execution_count": 28,
   "metadata": {},
   "outputs": [
    {
     "name": "stdout",
     "output_type": "stream",
     "text": [
      "1.0059043258562665\n",
      "0.06517122598375481\n",
      "0.9121801056973973\n",
      "1.1117429138029276\n"
     ]
    }
   ],
   "source": [
    "mean_G = df.G.mean()\n",
    "sd_G = df.G.std()\n",
    "\n",
    "low_limit = meanG -2*sdG\n",
    "high_limit = meanG + 2*sdG\n",
    "print(mean_G)\n",
    "print(sd_G)\n",
    "print(low_limit)\n",
    "print(high_limit)"
   ]
  },
  {
   "cell_type": "code",
   "execution_count": 32,
   "metadata": {},
   "outputs": [],
   "source": [
    "df['outlier'] = (df['G'] <= low_limit) | (df['G'] >= high_limit)"
   ]
  },
  {
   "cell_type": "code",
   "execution_count": 78,
   "metadata": {},
   "outputs": [
    {
     "data": {
      "text/plain": [
       "pandas.core.series.Series"
      ]
     },
     "execution_count": 78,
     "metadata": {},
     "output_type": "execute_result"
    }
   ],
   "source": [
    "type(df.outlier)"
   ]
  },
  {
   "cell_type": "code",
   "execution_count": 83,
   "metadata": {},
   "outputs": [],
   "source": [
    "outlier = df['outlier']\n",
    "trues = []\n",
    "index_list = []\n",
    "\n",
    "for index, value in outlier.iteritems():\n",
    "    if value:\n",
    "        trues.append(index)\n",
    "    else:\n",
    "        if len(trues) > 1:\n",
    "            index_list.extend(trues)\n",
    "        trues = []\n",
    "\n",
    "if len(trues) > 1:\n",
    "    index_list.extend(trues)\n"
   ]
  },
  {
   "cell_type": "code",
   "execution_count": 80,
   "metadata": {},
   "outputs": [],
   "source": [
    "df_filtered = df.iloc[index_list]"
   ]
  },
  {
   "cell_type": "code",
   "execution_count": 81,
   "metadata": {},
   "outputs": [
    {
     "data": {
      "text/plain": [
       "25657"
      ]
     },
     "execution_count": 81,
     "metadata": {},
     "output_type": "execute_result"
    }
   ],
   "source": [
    "len(index_list)"
   ]
  },
  {
   "cell_type": "code",
   "execution_count": 82,
   "metadata": {},
   "outputs": [
    {
     "data": {
      "text/html": [
       "<div>\n",
       "<style scoped>\n",
       "    .dataframe tbody tr th:only-of-type {\n",
       "        vertical-align: middle;\n",
       "    }\n",
       "\n",
       "    .dataframe tbody tr th {\n",
       "        vertical-align: top;\n",
       "    }\n",
       "\n",
       "    .dataframe thead th {\n",
       "        text-align: right;\n",
       "    }\n",
       "</style>\n",
       "<table border=\"1\" class=\"dataframe\">\n",
       "  <thead>\n",
       "    <tr style=\"text-align: right;\">\n",
       "      <th></th>\n",
       "      <th>Date</th>\n",
       "      <th>Speed</th>\n",
       "      <th>Altitude</th>\n",
       "      <th>Pressure</th>\n",
       "      <th>X</th>\n",
       "      <th>Y</th>\n",
       "      <th>Z</th>\n",
       "      <th>G</th>\n",
       "      <th>Latitude</th>\n",
       "      <th>Longitude</th>\n",
       "      <th>Heading</th>\n",
       "      <th>Magnetic Field</th>\n",
       "      <th>Sound Level</th>\n",
       "      <th>Luminance</th>\n",
       "      <th>Driver</th>\n",
       "      <th>outlier</th>\n",
       "    </tr>\n",
       "  </thead>\n",
       "  <tbody>\n",
       "    <tr>\n",
       "      <th>6</th>\n",
       "      <td>44:44.3</td>\n",
       "      <td>13.18</td>\n",
       "      <td>117.575111</td>\n",
       "      <td>1001.873856</td>\n",
       "      <td>0.089340</td>\n",
       "      <td>-0.843430</td>\n",
       "      <td>-0.317230</td>\n",
       "      <td>0.905533</td>\n",
       "      <td>32.757233</td>\n",
       "      <td>-117.122829</td>\n",
       "      <td>258.466003</td>\n",
       "      <td>60.593038</td>\n",
       "      <td>0.0</td>\n",
       "      <td>0.090733</td>\n",
       "      <td>Daniel</td>\n",
       "      <td>True</td>\n",
       "    </tr>\n",
       "    <tr>\n",
       "      <th>7</th>\n",
       "      <td>44:44.4</td>\n",
       "      <td>13.18</td>\n",
       "      <td>117.575111</td>\n",
       "      <td>1001.873856</td>\n",
       "      <td>-0.022995</td>\n",
       "      <td>-0.740540</td>\n",
       "      <td>-0.373474</td>\n",
       "      <td>0.829705</td>\n",
       "      <td>32.757233</td>\n",
       "      <td>-117.122829</td>\n",
       "      <td>258.466003</td>\n",
       "      <td>60.593038</td>\n",
       "      <td>0.0</td>\n",
       "      <td>0.088333</td>\n",
       "      <td>Daniel</td>\n",
       "      <td>True</td>\n",
       "    </tr>\n",
       "    <tr>\n",
       "      <th>12</th>\n",
       "      <td>44:45.0</td>\n",
       "      <td>13.18</td>\n",
       "      <td>117.575111</td>\n",
       "      <td>1001.873856</td>\n",
       "      <td>0.056915</td>\n",
       "      <td>-0.799789</td>\n",
       "      <td>-0.256180</td>\n",
       "      <td>0.841743</td>\n",
       "      <td>32.757233</td>\n",
       "      <td>-117.122829</td>\n",
       "      <td>258.466003</td>\n",
       "      <td>60.593038</td>\n",
       "      <td>0.0</td>\n",
       "      <td>0.087823</td>\n",
       "      <td>Daniel</td>\n",
       "      <td>True</td>\n",
       "    </tr>\n",
       "    <tr>\n",
       "      <th>13</th>\n",
       "      <td>44:45.1</td>\n",
       "      <td>13.18</td>\n",
       "      <td>117.575111</td>\n",
       "      <td>1001.873856</td>\n",
       "      <td>0.053726</td>\n",
       "      <td>-0.749893</td>\n",
       "      <td>-0.379517</td>\n",
       "      <td>0.842175</td>\n",
       "      <td>32.757233</td>\n",
       "      <td>-117.122829</td>\n",
       "      <td>258.466003</td>\n",
       "      <td>60.593038</td>\n",
       "      <td>0.0</td>\n",
       "      <td>0.089341</td>\n",
       "      <td>Daniel</td>\n",
       "      <td>True</td>\n",
       "    </tr>\n",
       "    <tr>\n",
       "      <th>37</th>\n",
       "      <td>44:47.5</td>\n",
       "      <td>13.03</td>\n",
       "      <td>117.883339</td>\n",
       "      <td>1002.035828</td>\n",
       "      <td>0.208282</td>\n",
       "      <td>-1.205704</td>\n",
       "      <td>-0.477448</td>\n",
       "      <td>1.313415</td>\n",
       "      <td>32.757234</td>\n",
       "      <td>-117.123244</td>\n",
       "      <td>258.498840</td>\n",
       "      <td>59.537563</td>\n",
       "      <td>0.0</td>\n",
       "      <td>0.073652</td>\n",
       "      <td>Daniel</td>\n",
       "      <td>True</td>\n",
       "    </tr>\n",
       "  </tbody>\n",
       "</table>\n",
       "</div>"
      ],
      "text/plain": [
       "       Date  Speed    Altitude     Pressure         X         Y         Z  \\\n",
       "6   44:44.3  13.18  117.575111  1001.873856  0.089340 -0.843430 -0.317230   \n",
       "7   44:44.4  13.18  117.575111  1001.873856 -0.022995 -0.740540 -0.373474   \n",
       "12  44:45.0  13.18  117.575111  1001.873856  0.056915 -0.799789 -0.256180   \n",
       "13  44:45.1  13.18  117.575111  1001.873856  0.053726 -0.749893 -0.379517   \n",
       "37  44:47.5  13.03  117.883339  1002.035828  0.208282 -1.205704 -0.477448   \n",
       "\n",
       "           G   Latitude   Longitude     Heading  Magnetic Field  Sound Level  \\\n",
       "6   0.905533  32.757233 -117.122829  258.466003       60.593038          0.0   \n",
       "7   0.829705  32.757233 -117.122829  258.466003       60.593038          0.0   \n",
       "12  0.841743  32.757233 -117.122829  258.466003       60.593038          0.0   \n",
       "13  0.842175  32.757233 -117.122829  258.466003       60.593038          0.0   \n",
       "37  1.313415  32.757234 -117.123244  258.498840       59.537563          0.0   \n",
       "\n",
       "    Luminance  Driver  outlier  \n",
       "6    0.090733  Daniel     True  \n",
       "7    0.088333  Daniel     True  \n",
       "12   0.087823  Daniel     True  \n",
       "13   0.089341  Daniel     True  \n",
       "37   0.073652  Daniel     True  "
      ]
     },
     "execution_count": 82,
     "metadata": {},
     "output_type": "execute_result"
    }
   ],
   "source": [
    "df_filtered.head()\n"
   ]
  },
  {
   "cell_type": "code",
   "execution_count": 84,
   "metadata": {},
   "outputs": [
    {
     "data": {
      "text/plain": [
       "Date              25657\n",
       "Speed             25657\n",
       "Altitude          25657\n",
       "Pressure          25657\n",
       "X                 25657\n",
       "Y                 25657\n",
       "Z                 25657\n",
       "G                 25657\n",
       "Latitude          25657\n",
       "Longitude         25657\n",
       "Heading           25657\n",
       "Magnetic Field    25657\n",
       "Sound Level       25657\n",
       "Luminance         25657\n",
       "Driver            25657\n",
       "outlier           25657\n",
       "dtype: int64"
      ]
     },
     "execution_count": 84,
     "metadata": {},
     "output_type": "execute_result"
    }
   ],
   "source": [
    "df_filtered.count()"
   ]
  },
  {
   "cell_type": "code",
   "execution_count": 85,
   "metadata": {},
   "outputs": [],
   "source": [
    "df_filtered.to_csv('filtered.csv')"
   ]
  },
  {
   "cell_type": "code",
   "execution_count": null,
   "metadata": {},
   "outputs": [],
   "source": []
  }
 ],
 "metadata": {
  "kernelspec": {
   "display_name": "Python [conda env:PythonData]",
   "language": "python",
   "name": "conda-env-PythonData-py"
  },
  "language_info": {
   "codemirror_mode": {
    "name": "ipython",
    "version": 3
   },
   "file_extension": ".py",
   "mimetype": "text/x-python",
   "name": "python",
   "nbconvert_exporter": "python",
   "pygments_lexer": "ipython3",
   "version": "3.6.5"
  }
 },
 "nbformat": 4,
 "nbformat_minor": 2
}
